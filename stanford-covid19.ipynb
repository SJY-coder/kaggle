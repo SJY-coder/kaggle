{
 "cells": [
  {
   "cell_type": "code",
   "execution_count": 1,
   "metadata": {
    "collapsed": true
   },
   "outputs": [],
   "source": [
    "import json\n",
    "\n",
    "import pandas as pd\n",
    "import numpy as np\n",
    "import plotly.express as px\n",
    "import tensorflow.keras.layers as L\n",
    "import tensorflow as tf\n",
    "from sklearn.model_selection import train_test_split\n"
   ]
  },
  {
   "cell_type": "code",
   "execution_count": 2,
   "outputs": [],
   "source": [
    "tf.random.set_seed(2020)\n",
    "np.random.seed(2020)"
   ],
   "metadata": {
    "collapsed": false,
    "pycharm": {
     "name": "#%%\n"
    }
   }
  },
  {
   "cell_type": "code",
   "execution_count": 3,
   "outputs": [],
   "source": [
    "pred_cols = ['reactivity','deg_Mg_pH10','deg_Mg_50C','deg_pH10','deg_50C']"
   ],
   "metadata": {
    "collapsed": false,
    "pycharm": {
     "name": "#%%\n"
    }
   }
  },
  {
   "cell_type": "code",
   "execution_count": 4,
   "outputs": [],
   "source": [
    "def MCRMSE(y_true,y_pred):\n",
    "    colwise_mse = tf.reduce_mean(tf.square(y_true - y_pred),axis=1)\n",
    "    return tf.reduce_mean(tf.sqrt(colwise_mse),axis=1)"
   ],
   "metadata": {
    "collapsed": false,
    "pycharm": {
     "name": "#%%\n"
    }
   }
  },
  {
   "cell_type": "code",
   "execution_count": 5,
   "outputs": [],
   "source": [
    "def gru_layer(hidden_dim,dropout):\n",
    "    return L.Bidirectional(L.GRU(hidden_dim,dropout=dropout,return_sequences=True,kernel_initializer='orthogonal'))"
   ],
   "metadata": {
    "collapsed": false,
    "pycharm": {
     "name": "#%%\n"
    }
   }
  },
  {
   "cell_type": "code",
   "execution_count": 6,
   "outputs": [],
   "source": [
    "def build_model(embed_size,seq_len = 107,pred_len = 68,dropout = 0.5,sp_dropout = 0.2,embed_dim = 75,hidden_dim = 128,n_layers = 2):\n",
    "    inputs = L.Input(shape=(seq_len,3))\n",
    "    embed = L.Embedding(input_dim=embed_size,output_dim=embed_size)(inputs)\n",
    "\n",
    "    reshaped = tf.reshape(embed,shape=(-1,embed.shape[1],embed.shape[2]*embed.shape[3]))\n",
    "    hidden = L.SpatialDropout1D(sp_dropout)(reshaped)\n",
    "\n",
    "    for x in range(n_layers):\n",
    "        hidden = gru_layer(hidden_dim,dropout)(hidden)\n",
    "\n",
    "    truncated = hidden[:,:pred_len]\n",
    "    out = L.Dense(5,activation='linear')(truncated)\n",
    "\n",
    "    model = tf.keras.Model(inputs=inputs,outputs=out)\n",
    "    model.compile(tf.optimizers.Adam(),loss=MCRMSE)\n",
    "\n",
    "    return model"
   ],
   "metadata": {
    "collapsed": false,
    "pycharm": {
     "name": "#%%\n"
    }
   }
  },
  {
   "cell_type": "code",
   "execution_count": 7,
   "outputs": [],
   "source": [
    "def pandas_list_to_array(df):\n",
    "    return np.transpose(np.array(df.values.tolist()),(0,2,1))"
   ],
   "metadata": {
    "collapsed": false,
    "pycharm": {
     "name": "#%%\n"
    }
   }
  },
  {
   "cell_type": "code",
   "execution_count": 8,
   "outputs": [],
   "source": [
    "def preprocess_inputs(df,token2int,cols=['sequence','structure','predicted_loop_type']):\n",
    "    return pandas_list_to_array(df[cols].applymap(lambda seq: [token2int[x] for x in seq]))"
   ],
   "metadata": {
    "collapsed": false,
    "pycharm": {
     "name": "#%%\n"
    }
   }
  },
  {
   "cell_type": "code",
   "execution_count": 9,
   "outputs": [],
   "source": [
    "data_dir = './covid_data/'\n",
    "train = pd.read_json(data_dir + 'train.json',lines=True)\n",
    "test = pd.read_json(data_dir + 'test.json',lines=True)\n",
    "sample_df = pd.read_csv(data_dir+'sample_submission.csv')"
   ],
   "metadata": {
    "collapsed": false,
    "pycharm": {
     "name": "#%%\n"
    }
   }
  },
  {
   "cell_type": "code",
   "execution_count": 10,
   "outputs": [],
   "source": [
    "token2int = {x:i for i,x in enumerate('().ACGUBEHIMSX')}\n",
    "\n",
    "train_inputs = preprocess_inputs(train,token2int)\n",
    "train_labels = pandas_list_to_array(train[pred_cols])"
   ],
   "metadata": {
    "collapsed": false,
    "pycharm": {
     "name": "#%%\n"
    }
   }
  },
  {
   "cell_type": "code",
   "execution_count": 11,
   "outputs": [],
   "source": [
    "x_train, x_val, y_train , y_val = train_test_split(train_inputs,train_labels,test_size=.1,random_state=34)"
   ],
   "metadata": {
    "collapsed": false,
    "pycharm": {
     "name": "#%%\n"
    }
   }
  },
  {
   "cell_type": "code",
   "execution_count": 12,
   "outputs": [],
   "source": [
    "public_df = test.query(\"seq_length==107\")\n",
    "private_df = test.query(\"seq_length==130\")\n",
    "\n",
    "public_inputs = preprocess_inputs(public_df,token2int)\n",
    "private_inputs = preprocess_inputs(private_df,token2int)"
   ],
   "metadata": {
    "collapsed": false,
    "pycharm": {
     "name": "#%%\n"
    }
   }
  },
  {
   "cell_type": "code",
   "execution_count": 13,
   "outputs": [
    {
     "name": "stdout",
     "output_type": "stream",
     "text": [
      "Model: \"model\"\n",
      "_________________________________________________________________\n",
      "Layer (type)                 Output Shape              Param #   \n",
      "=================================================================\n",
      "input_1 (InputLayer)         [(None, 107, 3)]          0         \n",
      "_________________________________________________________________\n",
      "embedding (Embedding)        (None, 107, 3, 14)        196       \n",
      "_________________________________________________________________\n",
      "tf_op_layer_Reshape (TensorF [(None, 107, 42)]         0         \n",
      "_________________________________________________________________\n",
      "spatial_dropout1d (SpatialDr (None, 107, 42)           0         \n",
      "_________________________________________________________________\n",
      "bidirectional (Bidirectional (None, 107, 256)          132096    \n",
      "_________________________________________________________________\n",
      "bidirectional_1 (Bidirection (None, 107, 256)          296448    \n",
      "_________________________________________________________________\n",
      "tf_op_layer_strided_slice (T [(None, 68, 256)]         0         \n",
      "_________________________________________________________________\n",
      "dense (Dense)                (None, 68, 5)             1285      \n",
      "=================================================================\n",
      "Total params: 430,025\n",
      "Trainable params: 430,025\n",
      "Non-trainable params: 0\n",
      "_________________________________________________________________\n"
     ]
    }
   ],
   "source": [
    "model = build_model(embed_size=len(token2int))\n",
    "model.summary()"
   ],
   "metadata": {
    "collapsed": false,
    "pycharm": {
     "name": "#%%\n"
    }
   }
  },
  {
   "cell_type": "code",
   "execution_count": null,
   "outputs": [
    {
     "name": "stdout",
     "output_type": "stream",
     "text": [
      "Train on 2160 samples, validate on 240 samples\n",
      "Epoch 1/100\n",
      "2160/2160 - 12s - loss: 0.6382 - val_loss: 0.5684\n",
      "Epoch 2/100\n",
      "2160/2160 - 2s - loss: 0.5722 - val_loss: 0.5252\n",
      "Epoch 3/100\n",
      "2160/2160 - 2s - loss: 0.5506 - val_loss: 0.5133\n",
      "Epoch 4/100\n",
      "2160/2160 - 2s - loss: 0.5364 - val_loss: 0.4935\n",
      "Epoch 5/100\n",
      "2160/2160 - 2s - loss: 0.5246 - val_loss: 0.4822\n",
      "Epoch 6/100\n",
      "2160/2160 - 2s - loss: 0.5140 - val_loss: 0.4767\n",
      "Epoch 7/100\n",
      "2160/2160 - 2s - loss: 0.5083 - val_loss: 0.4711\n",
      "Epoch 8/100\n",
      "2160/2160 - 2s - loss: 0.5055 - val_loss: 0.4694\n",
      "Epoch 9/100\n"
     ]
    }
   ],
   "source": [
    "history = model.fit(x_train,y_train,validation_data=(x_val,y_val),batch_size=64,epochs=100,verbose=2,callbacks=[tf.keras.callbacks.ReduceLROnPlateau(patience=5),tf.keras.callbacks.ModelCheckpoint('model.h5')])"
   ],
   "metadata": {
    "collapsed": false,
    "pycharm": {
     "name": "#%%\n",
     "is_executing": true
    }
   }
  },
  {
   "cell_type": "code",
   "execution_count": null,
   "outputs": [],
   "source": [
    "fig = px.line(\n",
    "    history.history,y=['loss','val_loss'],\n",
    "    labels={'index':'epoch','value':'MCRMSE'},\n",
    "    title = 'Training History')\n",
    "fig.show()"
   ],
   "metadata": {
    "collapsed": false,
    "pycharm": {
     "name": "#%%\n",
     "is_executing": true
    }
   }
  },
  {
   "cell_type": "code",
   "execution_count": null,
   "outputs": [],
   "source": [
    "model_public = build_model(seq_len=107,pred_len=107,embed_size=len(token2int))\n",
    "model_private = build_model(seq_len=130,pred_len=130,embed_size=len(token2int))\n",
    "\n",
    "model_public.load_weights('model.h5')\n",
    "model_private.load_weights('model.h5')"
   ],
   "metadata": {
    "collapsed": false,
    "pycharm": {
     "name": "#%%\n",
     "is_executing": true
    }
   }
  },
  {
   "cell_type": "code",
   "execution_count": null,
   "outputs": [],
   "source": [
    "public_preds = model_public.predict(public_inputs)\n",
    "private_preds = model_private.predict(private_inputs)\n",
    "\n",
    "pred_ls = []\n",
    "for df,preds in [(public_df,public_preds),(private_df,private_preds)]:\n",
    "    for i, uid in enumerate(df.id):\n",
    "        single_pred = preds[i]\n",
    "\n",
    "        single_df = pd.DataFrame(single_pred,columns=pred_cols)\n",
    "        single_df['id_seqpos'] = [f'{uid}_{x}' for x in range(single_df.shape[0])]\n",
    "\n",
    "        pred_ls.append(single_df)\n",
    "preds_df = pd.concat(pred_ls)\n",
    "preds_df.head()\n",
    "submission = sample_df[['id_seqpos']].merge(preds_df,on=['id_seqpos'])\n",
    "submission.to_csv('submission.csv',index=False)\n"
   ],
   "metadata": {
    "collapsed": false,
    "pycharm": {
     "name": "#%%\n",
     "is_executing": true
    }
   }
  }
 ],
 "metadata": {
  "kernelspec": {
   "name": "python3",
   "language": "python",
   "display_name": "Python 3"
  },
  "language_info": {
   "codemirror_mode": {
    "name": "ipython",
    "version": 2
   },
   "file_extension": ".py",
   "mimetype": "text/x-python",
   "name": "python",
   "nbconvert_exporter": "python",
   "pygments_lexer": "ipython2",
   "version": "2.7.6"
  }
 },
 "nbformat": 4,
 "nbformat_minor": 0
}